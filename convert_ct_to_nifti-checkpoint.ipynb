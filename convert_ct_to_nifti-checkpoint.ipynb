{
 "cells": [
  {
   "cell_type": "code",
   "execution_count": 27,
   "id": "371b7cee-bff5-4ed4-8833-a9551ffbfad7",
   "metadata": {},
   "outputs": [],
   "source": [
    "import pandas as pd\n",
    "from pathlib import Path\n",
    "import subprocess\n",
    "import dicom2nifti"
   ]
  },
  {
   "cell_type": "code",
   "execution_count": null,
   "id": "0c84e22e-956b-46eb-8d64-9ca3e14db984",
   "metadata": {},
   "outputs": [],
   "source": [
    "all_ct_scans = pd.read_table('baerum_ct_native.txt')"
   ]
  },
  {
   "cell_type": "code",
   "execution_count": null,
   "id": "248085f5-b59f-4b3e-8a35-7a92fbd017a2",
   "metadata": {},
   "outputs": [],
   "source": [
    "output_dir = Path('native_ct_scans/')"
   ]
  },
  {
   "cell_type": "code",
   "execution_count": null,
   "id": "7c4db5cb-2d6c-4549-b3a8-8805ad2459e4",
   "metadata": {},
   "outputs": [],
   "source": [
    "def get_subject_id(patient_name_string):\n",
    "    subject_id = patient_name_string[:6]\n",
    "    return subject_id"
   ]
  },
  {
   "cell_type": "code",
   "execution_count": null,
   "id": "343dc8e7-2bf5-4c1b-ac7a-4e75ee31fb1e",
   "metadata": {},
   "outputs": [],
   "source": [
    "def make_subject_dir(subject_id):\n",
    "    subject_dir_path = output_dir / subject_id\n",
    "    subject_dir_path.mkdir(parents=True, exist_ok=True)\n",
    "    return subject_dir_path"
   ]
  },
  {
   "cell_type": "code",
   "execution_count": null,
   "id": "b37c1a5b-c5c3-4ee6-b245-ba7b97bf3264",
   "metadata": {},
   "outputs": [],
   "source": [
    "all_ct_scans['subject_id'] = all_ct_scans['Patient name'].apply(get_subject_id)"
   ]
  },
  {
   "cell_type": "code",
   "execution_count": null,
   "id": "052e4700-9d9d-4cb7-a7be-5b61dadbc028",
   "metadata": {},
   "outputs": [],
   "source": [
    "id_and_series_uid = all_ct_scans[['subject_id', 'Comments']]\n",
    "id_and_series_uid.columns = ['subject_id', 'SeriesInstanceUID']"
   ]
  },
  {
   "cell_type": "code",
   "execution_count": null,
   "id": "6d5475b2-84ed-48ad-8a65-c7a60608dc22",
   "metadata": {},
   "outputs": [],
   "source": [
    "string_to_dicompull = '/Users/landge/Downloads/dicomtools-0.8.13-mac/dicompull'\n",
    "string_to_dicoms = '/Users/landge/NorCOAST/klinisk_baseline_april22'"
   ]
  },
  {
   "cell_type": "code",
   "execution_count": null,
   "id": "0e712796-a1df-4f76-891d-cdcfcae6e997",
   "metadata": {},
   "outputs": [],
   "source": [
    "id_and_series_uid['SeriesInstanceUID'].to_csv('suid.txt', sep=' ', index=False)"
   ]
  },
  {
   "cell_type": "code",
   "execution_count": null,
   "id": "d1d1f307-0586-477c-b5c2-8a23e1731a17",
   "metadata": {},
   "outputs": [],
   "source": [
    "subprocess.call([string_to_dicompull, '-u', 'suid.txt', string_to_dicoms, '-o', output_dir.as_posix()+'/{PatientID}/dicom/CT/'])\n"
   ]
  },
  {
   "cell_type": "code",
   "execution_count": 26,
   "id": "ec1e8acd-4cb2-4230-b367-1b8ad981884f",
   "metadata": {},
   "outputs": [],
   "source": [
    "for p in output_dir.glob('*'):\n",
    "    p.rename(p.parents[0]/ p.name[:6])"
   ]
  },
  {
   "cell_type": "code",
   "execution_count": 29,
   "id": "1e92b816-fc05-45d5-a2f8-3d74131a830d",
   "metadata": {},
   "outputs": [],
   "source": [
    "def run_dicompull():\n",
    "    for row in id_and_series_uid[:10].itertuples(name=None):\n",
    "        subject_dir = make_subject_dir(str(row[1]))\n",
    "        subprocess.call([string_to_dicompull, '-u', 'SeriesInstance', row[2], string_to_dicoms, '-o', subject_dir.as_posix()+'/dicom/CT/'])\n",
    "    return None"
   ]
  },
  {
   "cell_type": "code",
   "execution_count": null,
   "id": "89d99f0a-279b-4501-a23d-ac5087df4ab5",
   "metadata": {},
   "outputs": [],
   "source": [
    "[get_subject_id(subject) for subject in all_ct_scans['Patient name'].tolist()]"
   ]
  },
  {
   "cell_type": "code",
   "execution_count": null,
   "id": "77e7ba07-91ea-4308-88d5-09c53ef942b0",
   "metadata": {},
   "outputs": [],
   "source": [
    "all_ct_scans[['Patient name','Comments']]"
   ]
  },
  {
   "cell_type": "code",
   "execution_count": null,
   "id": "dac8d021-bfc7-47cf-a5dc-a585e410bdef",
   "metadata": {},
   "outputs": [],
   "source": []
  }
 ],
 "metadata": {
  "kernelspec": {
   "display_name": "Python 3 (ipykernel)",
   "language": "python",
   "name": "python3"
  },
  "language_info": {
   "codemirror_mode": {
    "name": "ipython",
    "version": 3
   },
   "file_extension": ".py",
   "mimetype": "text/x-python",
   "name": "python",
   "nbconvert_exporter": "python",
   "pygments_lexer": "ipython3",
   "version": "3.10.4"
  }
 },
 "nbformat": 4,
 "nbformat_minor": 5
}
