{
 "cells": [
  {
   "cell_type": "code",
   "execution_count": 1,
   "id": "63e9f9ba-d05e-4588-bab3-46c588eab6f3",
   "metadata": {},
   "outputs": [],
   "source": [
    "import subprocess\n",
    "from pathlib import Path\n",
    "import pandas as pd\n",
    "from collections import Counter as count"
   ]
  },
  {
   "cell_type": "code",
   "execution_count": 2,
   "id": "bd2d3366-c2a7-4bc5-ade7-54635a918a65",
   "metadata": {},
   "outputs": [],
   "source": [
    "zips_path = Path('ullevaal_zips/')\n",
    "dicom_path = Path('klinisk_baseline_ulleval_may2022/')\n",
    "axial_ct_path = Path('ulleval_axial_cts/')"
   ]
  },
  {
   "cell_type": "code",
   "execution_count": 3,
   "id": "58e2ef20-1e56-4383-9d42-42a3e9c9667d",
   "metadata": {},
   "outputs": [],
   "source": [
    "ct_scans_99 = pd.read_table('99_ct_scans.txt')\n",
    "ct_scans_90 = pd.read_table('90_ct_scans.txt')"
   ]
  },
  {
   "cell_type": "code",
   "execution_count": 4,
   "id": "b7c7af43-84fe-4ce2-919f-e9ec5b8fe51e",
   "metadata": {},
   "outputs": [],
   "source": [
    "ct_scans_99[['Patient name', 'Comments']]\n",
    "ct_scans_90[['Patient name', 'Comments']]\n",
    "a = set(ct_scans_99['Comments'])\n",
    "b = set(ct_scans_90['Comments'])\n",
    "missing_suids = a - b\n",
    "missing_cts = pd.DataFrame({'StudyInstanceUID': list(missing_suids)})"
   ]
  },
  {
   "cell_type": "code",
   "execution_count": 5,
   "id": "74107500-e932-47be-bb42-baaf1f935b1f",
   "metadata": {},
   "outputs": [],
   "source": [
    "missing_cts.to_csv('suid2.txt', sep=' ', index=False)"
   ]
  },
  {
   "cell_type": "code",
   "execution_count": 6,
   "id": "02f14f3d-fca0-4a7a-b04a-c79141ecfbf6",
   "metadata": {},
   "outputs": [],
   "source": [
    "suid_input = 'suid2.txt'"
   ]
  },
  {
   "cell_type": "code",
   "execution_count": 7,
   "id": "a35c782b-778c-4a94-abcf-ae8f6bd31e81",
   "metadata": {},
   "outputs": [],
   "source": [
    "zips = [z for z in zips_path.glob('*.zip')]"
   ]
  },
  {
   "cell_type": "code",
   "execution_count": 8,
   "id": "ec2b3b34-48b2-42c6-9ea5-657ec50d3112",
   "metadata": {},
   "outputs": [],
   "source": [
    "#for zip in zips:\n",
    "#    subprocess.call(['unzip', zip.as_posix(), '-d', dicom_path.as_posix()])"
   ]
  },
  {
   "cell_type": "code",
   "execution_count": 9,
   "id": "d7f9620d-b618-4d97-a1ec-04a2c6d2e1a0",
   "metadata": {},
   "outputs": [],
   "source": [
    "dicompull_location = '/Applications/dicomtools-0.8.13-mac/dicompull'"
   ]
  },
  {
   "cell_type": "code",
   "execution_count": 10,
   "id": "ab504223-a016-416b-8a66-09ae07ae7241",
   "metadata": {},
   "outputs": [],
   "source": [
    "tags = ['ax til PACS', 'ax', 'Ax til PACS', 'Axial', 'AX', 'Caput', 'ax til pacs']"
   ]
  },
  {
   "cell_type": "code",
   "execution_count": 11,
   "id": "49dd87bd-49ea-4a76-94db-b187f0cd9352",
   "metadata": {},
   "outputs": [],
   "source": [
    "def run_dicompull(tag):\n",
    "    subprocess.call([dicompull_location, '-k', 'Modality=CT', '-k', '0008,103e='+tag, '-k', 'InstanceNumber=2', dicom_path.as_posix(), '-o', axial_ct_path.as_posix()+'/{PatientID}/dicom/CT'])"
   ]
  },
  {
   "cell_type": "code",
   "execution_count": 14,
   "id": "11b8fe50-07c7-4db6-9444-d4162dddb4ce",
   "metadata": {},
   "outputs": [],
   "source": [
    "def run_dicompull_suid(suids):\n",
    "    subprocess.call([dicompull_location, '-u', suids, dicom_path.as_posix(), '-o', axial_ct_path.as_posix()+'/{PatientID}/dicom/CT'])"
   ]
  },
  {
   "cell_type": "code",
   "execution_count": 15,
   "id": "70ed47c7-a029-418c-bedd-9bde4996e816",
   "metadata": {},
   "outputs": [
    {
     "name": "stdout",
     "output_type": "stream",
     "text": [
      "Scanning 100%                      \n",
      "Copying 100%                       \n"
     ]
    }
   ],
   "source": [
    "run_dicompull_suid(suid_input)"
   ]
  },
  {
   "cell_type": "code",
   "execution_count": 13,
   "id": "942999d5-ed3c-44ff-8fa4-1a27f6907736",
   "metadata": {},
   "outputs": [
    {
     "name": "stdout",
     "output_type": "stream",
     "text": [
      "Scanning 100%                      \n",
      "Scanning 100%                      \n",
      "Scanning 100%                      \n",
      "Scanning 100%                      \n",
      "Scanning 100%                      \n",
      "Scanning 100%                      \n",
      "Scanning 100%                      \n"
     ]
    }
   ],
   "source": [
    "for tag in tags:\n",
    "    run_dicompull(tag)"
   ]
  },
  {
   "cell_type": "code",
   "execution_count": 16,
   "id": "0b7f3d60-97df-49c5-9e66-ba86d8d3a23a",
   "metadata": {},
   "outputs": [],
   "source": [
    "bla = [p for p in axial_ct_path.glob('*ct')]"
   ]
  },
  {
   "cell_type": "code",
   "execution_count": 17,
   "id": "9cf0b6cd-9974-4625-87e2-71afe7f4f25b",
   "metadata": {},
   "outputs": [
    {
     "data": {
      "text/plain": [
       "97"
      ]
     },
     "execution_count": 17,
     "metadata": {},
     "output_type": "execute_result"
    }
   ],
   "source": [
    "len(bla)"
   ]
  },
  {
   "cell_type": "code",
   "execution_count": null,
   "id": "906ef221-ae2a-483a-b1e5-9350f099835a",
   "metadata": {},
   "outputs": [],
   "source": []
  }
 ],
 "metadata": {
  "kernelspec": {
   "display_name": "Python 3 (ipykernel)",
   "language": "python",
   "name": "python3"
  },
  "language_info": {
   "codemirror_mode": {
    "name": "ipython",
    "version": 3
   },
   "file_extension": ".py",
   "mimetype": "text/x-python",
   "name": "python",
   "nbconvert_exporter": "python",
   "pygments_lexer": "ipython3",
   "version": "3.10.5"
  }
 },
 "nbformat": 4,
 "nbformat_minor": 5
}
