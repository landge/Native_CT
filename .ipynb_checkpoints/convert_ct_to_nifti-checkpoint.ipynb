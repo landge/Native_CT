{
 "cells": [
  {
   "cell_type": "code",
   "execution_count": null,
   "id": "371b7cee-bff5-4ed4-8833-a9551ffbfad7",
   "metadata": {},
   "outputs": [],
   "source": [
    "import pandas as pd\n",
    "from pathlib import Path\n",
    "import subprocess\n",
    "import dicom2nifti\n",
    "import dicom2nifti.settings as settings"
   ]
  },
  {
   "cell_type": "code",
   "execution_count": null,
   "id": "0c84e22e-956b-46eb-8d64-9ca3e14db984",
   "metadata": {},
   "outputs": [],
   "source": [
    "all_ct_scans = pd.read_table('baerum_ct_native.txt')"
   ]
  },
  {
   "cell_type": "code",
   "execution_count": null,
   "id": "248085f5-b59f-4b3e-8a35-7a92fbd017a2",
   "metadata": {},
   "outputs": [],
   "source": [
    "output_dir = Path('native_ct_scans/')"
   ]
  },
  {
   "cell_type": "code",
   "execution_count": null,
   "id": "7c4db5cb-2d6c-4549-b3a8-8805ad2459e4",
   "metadata": {},
   "outputs": [],
   "source": [
    "def get_subject_id(patient_name_string):\n",
    "    subject_id = patient_name_string[:6]\n",
    "    return subject_id"
   ]
  },
  {
   "cell_type": "code",
   "execution_count": null,
   "id": "343dc8e7-2bf5-4c1b-ac7a-4e75ee31fb1e",
   "metadata": {},
   "outputs": [],
   "source": [
    "def make_subject_dir(subject_id):\n",
    "    subject_dir_path = output_dir / subject_id subject_dir_path.mkdir(parents=True, exist_ok=True)\n",
    "    return subject_dir_path"
   ]
  },
  {
   "cell_type": "code",
   "execution_count": null,
   "id": "b37c1a5b-c5c3-4ee6-b245-ba7b97bf3264",
   "metadata": {},
   "outputs": [],
   "source": [
    "all_ct_scans['subject_id'] = all_ct_scans['Patient name'].apply(get_subject_id)"
   ]
  },
  {
   "cell_type": "code",
   "execution_count": null,
   "id": "052e4700-9d9d-4cb7-a7be-5b61dadbc028",
   "metadata": {},
   "outputs": [],
   "source": [
    "id_and_series_uid = all_ct_scans[['subject_id', 'Comments']]\n",
    "id_and_series_uid.columns = ['subject_id', 'SeriesInstanceUID']"
   ]
  },
  {
   "cell_type": "code",
   "execution_count": null,
   "id": "6d5475b2-84ed-48ad-8a65-c7a60608dc22",
   "metadata": {},
   "outputs": [],
   "source": [
    "string_to_dicompull = '/Users/landge/Downloads/dicomtools-0.8.13-mac/dicompull'\n",
    "string_to_dicoms = '/Users/landge/NorCOAST/klinisk_baseline_april22'"
   ]
  },
  {
   "cell_type": "code",
   "execution_count": null,
   "id": "0e712796-a1df-4f76-891d-cdcfcae6e997",
   "metadata": {},
   "outputs": [],
   "source": [
    "id_and_series_uid['SeriesInstanceUID'].to_csv('suid.txt', sep=' ', index=False)"
   ]
  },
  {
   "cell_type": "code",
   "execution_count": null,
   "id": "d1d1f307-0586-477c-b5c2-8a23e1731a17",
   "metadata": {},
   "outputs": [],
   "source": [
    "def run_dicompull():\n",
    "    '''Run only from console!'''\n",
    "    subprocess.call([string_to_dicompull, '-u', 'suid.txt', string_to_dicoms, '-o', output_dir.as_posix()+'/{PatientID}/dicom/CT/'])\n",
    "    return None\n"
   ]
  },
  {
   "cell_type": "code",
   "execution_count": null,
   "id": "ec1e8acd-4cb2-4230-b367-1b8ad981884f",
   "metadata": {},
   "outputs": [],
   "source": [
    "def rename_directories():\n",
    "    '''Rename output_dir. Only run once from console after dicompull!'''\n",
    "    for p in output_dir.glob('*'):\n",
    "        p.rename(p.parents[0]/ p.name[:6])"
   ]
  },
  {
   "cell_type": "code",
   "execution_count": null,
   "id": "5f33fbfa-8dbc-4700-b148-fe8d87473c89",
   "metadata": {},
   "outputs": [],
   "source": [
    "settings.disable_validate_orthogonal()\n",
    "settings.disable_validate_slice_increment()"
   ]
  },
  {
   "cell_type": "code",
   "execution_count": null,
   "id": "dac8d021-bfc7-47cf-a5dc-a585e410bdef",
   "metadata": {},
   "outputs": [],
   "source": [
    "for p in output_dir.glob('*'):\n",
    "    dicom_directory = p / 'dicom' / 'CT' \n",
    "    subprocess.call(['dcm2niix', '-o', p.as_posix(), '-f', p.name+'_Brain_CT', '-b', 'y', '-z', 'y',  dicom_directory.as_posix()])\n",
    "    #dicom2nifti.dicom_series_to_nifti(dicom_directory, p.as_posix()+'/'+p.name+'_Brain_CT.nii.gz', reorient_nifti=False) \n",
    "    print(p.as_posix())"
   ]
  },
  {
   "cell_type": "code",
   "execution_count": null,
   "id": "a2d8009d-ef01-45c1-854e-cec92e7ac5da",
   "metadata": {},
   "outputs": [],
   "source": [
    "# Remove series with only a single slice!\n",
    "!find . -name '*CTa*' -exec rm -rf {} \\;"
   ]
  },
  {
   "cell_type": "code",
   "execution_count": null,
   "id": "82595877-564b-4b0c-844a-031406ae3b7d",
   "metadata": {},
   "outputs": [],
   "source": [
    "list_over_errors = []\n",
    "patterns = ['CT.json', 'Brain_CT.nii.gz']\n",
    "all_files = [p for p in output_dir.glob('**/*_Brain_CT*')]\n",
    "for p in all_files:\n",
    "    for pattern in patterns:\n",
    "        if pattern in p.as_posix():\n",
    "            break\n",
    "    else:\n",
    "        list_over_errors.append(p)\n",
    "\n"
   ]
  },
  {
   "cell_type": "code",
   "execution_count": null,
   "id": "4c5231a2-6f38-45b0-825d-d0a6074c2ba8",
   "metadata": {},
   "outputs": [],
   "source": [
    "list_over_errors"
   ]
  },
  {
   "cell_type": "markdown",
   "id": "c7021d57-67e7-4eee-bc31-bf74f4c9d511",
   "metadata": {},
   "source": [
    "## Handling of duplicate series\n",
    "I've selected the right series after visual inspection. Rename the correct series accordingly."
   ]
  },
  {
   "cell_type": "code",
   "execution_count": null,
   "id": "4c5df515-db8f-432f-bf18-78c5c7ca1823",
   "metadata": {},
   "outputs": [],
   "source": [
    "!tar -cjvf barum_ct_native.tar.bz2 {output_dir.as_posix()}"
   ]
  },
  {
   "cell_type": "code",
   "execution_count": null,
   "id": "b6e7198b-d466-438f-941f-8f90cf71ea9e",
   "metadata": {},
   "outputs": [],
   "source": []
  }
 ],
 "metadata": {
  "kernelspec": {
   "display_name": "Python 3 (ipykernel)",
   "language": "python",
   "name": "python3"
  },
  "language_info": {
   "codemirror_mode": {
    "name": "ipython",
    "version": 3
   },
   "file_extension": ".py",
   "mimetype": "text/x-python",
   "name": "python",
   "nbconvert_exporter": "python",
   "pygments_lexer": "ipython3",
   "version": "3.10.5"
  }
 },
 "nbformat": 4,
 "nbformat_minor": 5
}
