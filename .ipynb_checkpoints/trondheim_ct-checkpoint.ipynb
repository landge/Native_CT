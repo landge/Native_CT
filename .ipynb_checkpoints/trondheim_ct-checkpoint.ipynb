{
 "cells": [
  {
   "cell_type": "code",
   "execution_count": 20,
   "id": "e7d5f8d3-8508-4662-84aa-02627672a124",
   "metadata": {},
   "outputs": [],
   "source": [
    "from pathlib import Path\n",
    "import subprocess"
   ]
  },
  {
   "cell_type": "code",
   "execution_count": 6,
   "id": "6a23a1ca-fb1b-48af-8480-be2731917143",
   "metadata": {},
   "outputs": [],
   "source": [
    "dicoms = Path('Eva_Mona').glob('**/DICOM')\n",
    "output_dir = Path('trondheim_output')"
   ]
  },
  {
   "cell_type": "code",
   "execution_count": 4,
   "id": "4319b60a-dc4e-40d8-8f1d-5ac68f355eef",
   "metadata": {},
   "outputs": [],
   "source": [
    "trondheim_dicom_paths = [p for p in dicoms]"
   ]
  },
  {
   "cell_type": "code",
   "execution_count": 9,
   "id": "57935211-f94c-4f2b-bed2-9cbdd309dca0",
   "metadata": {},
   "outputs": [],
   "source": [
    "def get_id(path_obj):\n",
    "        first_try = path_obj.parts[1][:6]\n",
    "        return first_try"
   ]
  },
  {
   "cell_type": "code",
   "execution_count": 14,
   "id": "ae07d8e7-cd5c-4eca-a8a9-03d64e86a5ed",
   "metadata": {},
   "outputs": [],
   "source": [
    "def make_subj_dir(subject_id):\n",
    "    subject_dir = output_dir / subject_id\n",
    "    subject_dir.mkdir(parents=True, exist_ok=True)\n",
    "    return subject_dir"
   ]
  },
  {
   "cell_type": "code",
   "execution_count": 16,
   "id": "f0cd376f-a150-4095-a5bb-0e0741086133",
   "metadata": {},
   "outputs": [],
   "source": [
    "string_to_dicompull = '/Users/landge/Downloads/dicomtools-0.8.13-mac/dicompull'"
   ]
  },
  {
   "cell_type": "code",
   "execution_count": 32,
   "id": "1af97dad-cc2c-4db3-aa60-1204b16db9b0",
   "metadata": {},
   "outputs": [],
   "source": [
    "def run_dicompull(dicom_dir, subject_dir):\n",
    "    subprocess.call([string_to_dicompull, dicom_dir.as_posix(), '-k', 'SeriesNumber=2', '-k', 'Modality=CT', '-o', subject_dir.as_posix()+'/{Modality}'])\n",
    "    return None"
   ]
  },
  {
   "cell_type": "code",
   "execution_count": 33,
   "id": "0146bdd1-d95d-40a6-bfa9-c4bb85f92333",
   "metadata": {},
   "outputs": [],
   "source": [
    "for p in trondheim_dicom_paths:\n",
    "    subject_dir = make_subj_dir(get_id(p))\n",
    "    run_dicompull(p, subject_dir)\n",
    "    "
   ]
  },
  {
   "cell_type": "code",
   "execution_count": 34,
   "id": "c5a65655-a590-4dc1-815d-2a42697dab18",
   "metadata": {},
   "outputs": [],
   "source": [
    "ct_dicom_dirs = Path('trondheim_output').glob('*/CT')"
   ]
  },
  {
   "cell_type": "code",
   "execution_count": 35,
   "id": "900ed273-443d-4a44-b702-0c36ca6bf3e3",
   "metadata": {},
   "outputs": [],
   "source": [
    "ct_dicoms = [p for p in ct_dicom_dirs]"
   ]
  },
  {
   "cell_type": "code",
   "execution_count": null,
   "id": "8c9b7d33-f960-47c5-8752-0ff5e33d5340",
   "metadata": {},
   "outputs": [],
   "source": [
    "for p in ct_dicoms:\n",
    "    output_dir = p.parents[0] \n",
    "    subprocess.call(['dcm2niix', '-o', output_dir.as_posix(), '-f', output_dir.name+'_Brain_CT', '-b', 'y', '-z', 'y',  p.as_posix()])"
   ]
  },
  {
   "cell_type": "code",
   "execution_count": 48,
   "id": "20553bfb-5903-4f2d-ba02-d1d1cac7b5b2",
   "metadata": {},
   "outputs": [],
   "source": [
    "for p in ct_dicoms:\n",
    "    p.rename(p.parent / 'dicom')"
   ]
  },
  {
   "cell_type": "code",
   "execution_count": 49,
   "id": "5e179595-72d1-447a-a134-9735366ff805",
   "metadata": {},
   "outputs": [
    {
     "name": "stdout",
     "output_type": "stream",
     "text": [
      "a trondheim_output/400197\n",
      "a trondheim_output/400197/400197_Brain_CT.json\n",
      "a trondheim_output/400197/dicom\n",
      "a trondheim_output/400197/400197_Brain_CT.nii.gz\n",
      "a trondheim_output/400197/dicom/IM-0001-0027.dcm\n",
      "a trondheim_output/400197/dicom/IM-0001-0033.dcm\n",
      "a trondheim_output/400197/dicom/IM-0001-0032.dcm\n",
      "a trondheim_output/400197/dicom/IM-0001-0026.dcm\n",
      "a trondheim_output/400197/dicom/IM-0001-0018.dcm\n",
      "a trondheim_output/400197/dicom/IM-0001-0030.dcm\n",
      "a trondheim_output/400197/dicom/IM-0001-0024.dcm\n",
      "a trondheim_output/400197/dicom/IM-0001-0025.dcm\n",
      "a trondheim_output/400197/dicom/IM-0001-0031.dcm\n",
      "a trondheim_output/400197/dicom/IM-0001-0019.dcm\n",
      "a trondheim_output/400197/dicom/IM-0001-0035.dcm\n",
      "a trondheim_output/400197/dicom/IM-0001-0021.dcm\n",
      "a trondheim_output/400197/dicom/IM-0001-0009.dcm\n",
      "a trondheim_output/400197/dicom/IM-0001-0008.dcm\n",
      "a trondheim_output/400197/dicom/IM-0001-0020.dcm\n",
      "a trondheim_output/400197/dicom/IM-0001-0034.dcm\n",
      "a trondheim_output/400197/dicom/IM-0001-0022.dcm\n",
      "a trondheim_output/400197/dicom/IM-0001-0036.dcm\n",
      "a trondheim_output/400197/dicom/IM-0001-0037.dcm\n",
      "a trondheim_output/400197/dicom/IM-0001-0023.dcm\n",
      "a trondheim_output/400197/dicom/IM-0001-0044.dcm\n",
      "a trondheim_output/400197/dicom/IM-0001-0050.dcm\n",
      "a trondheim_output/400197/dicom/IM-0001-0051.dcm\n",
      "a trondheim_output/400197/dicom/IM-0001-0045.dcm\n",
      "a trondheim_output/400197/dicom/IM-0001-0047.dcm\n",
      "a trondheim_output/400197/dicom/IM-0001-0046.dcm\n",
      "a trondheim_output/400197/dicom/IM-0001-0042.dcm\n",
      "a trondheim_output/400197/dicom/IM-0001-0043.dcm\n",
      "a trondheim_output/400197/dicom/IM-0001-0041.dcm\n",
      "a trondheim_output/400197/dicom/IM-0001-0040.dcm\n",
      "a trondheim_output/400197/dicom/IM-0001-0048.dcm\n",
      "a trondheim_output/400197/dicom/IM-0001-0049.dcm\n",
      "a trondheim_output/400197/dicom/IM-0001-0006.dcm\n",
      "a trondheim_output/400197/dicom/IM-0001-0012.dcm\n",
      "a trondheim_output/400197/dicom/IM-0001-0013.dcm\n",
      "a trondheim_output/400197/dicom/IM-0001-0007.dcm\n",
      "a trondheim_output/400197/dicom/IM-0001-0039.dcm\n",
      "a trondheim_output/400197/dicom/IM-0001-0011.dcm\n",
      "a trondheim_output/400197/dicom/IM-0001-0005.dcm\n",
      "a trondheim_output/400197/dicom/IM-0001-0004.dcm\n",
      "a trondheim_output/400197/dicom/IM-0001-0010.dcm\n",
      "a trondheim_output/400197/dicom/IM-0001-0038.dcm\n",
      "a trondheim_output/400197/dicom/IM-0001-0014.dcm\n",
      "a trondheim_output/400197/dicom/IM-0001-0028.dcm\n",
      "a trondheim_output/400197/dicom/IM-0001-0029.dcm\n",
      "a trondheim_output/400197/dicom/IM-0001-0001.dcm\n",
      "a trondheim_output/400197/dicom/IM-0001-0015.dcm\n",
      "a trondheim_output/400197/dicom/IM-0001-0003.dcm\n",
      "a trondheim_output/400197/dicom/IM-0001-0017.dcm\n",
      "a trondheim_output/400197/dicom/IM-0001-0016.dcm\n",
      "a trondheim_output/400197/dicom/IM-0001-0002.dcm\n"
     ]
    }
   ],
   "source": [
    "!tar -cjvf trondheim_ct_native.tar.bz2 {output_dir.as_posix()}"
   ]
  },
  {
   "cell_type": "code",
   "execution_count": null,
   "id": "e5ac2e83-a5f2-4392-b3cc-f2b87eaba45b",
   "metadata": {},
   "outputs": [],
   "source": []
  }
 ],
 "metadata": {
  "kernelspec": {
   "display_name": "Python 3 (ipykernel)",
   "language": "python",
   "name": "python3"
  },
  "language_info": {
   "codemirror_mode": {
    "name": "ipython",
    "version": 3
   },
   "file_extension": ".py",
   "mimetype": "text/x-python",
   "name": "python",
   "nbconvert_exporter": "python",
   "pygments_lexer": "ipython3",
   "version": "3.10.4"
  }
 },
 "nbformat": 4,
 "nbformat_minor": 5
}
