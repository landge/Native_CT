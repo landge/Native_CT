{
 "cells": [
  {
   "cell_type": "code",
   "execution_count": 12,
   "id": "63e9f9ba-d05e-4588-bab3-46c588eab6f3",
   "metadata": {},
   "outputs": [],
   "source": [
    "import subprocess\n",
    "from pathlib import Path\n",
    "import pandas as pd\n",
    "from collections import Counter as count\n",
    "import pydicom\n",
    "import re"
   ]
  },
  {
   "cell_type": "code",
   "execution_count": 2,
   "id": "bd2d3366-c2a7-4bc5-ade7-54635a918a65",
   "metadata": {},
   "outputs": [],
   "source": [
    "zips_path = Path('ullevaal_zips/')\n",
    "dicom_path = Path('klinisk_baseline_ulleval_may2022/')\n",
    "axial_ct_path = Path('ulleval_axial_cts/')"
   ]
  },
  {
   "cell_type": "code",
   "execution_count": 3,
   "id": "58e2ef20-1e56-4383-9d42-42a3e9c9667d",
   "metadata": {},
   "outputs": [],
   "source": [
    "ct_scans_99 = pd.read_table('99_ct_scans.txt')\n",
    "ct_scans_90 = pd.read_table('90_ct_scans.txt')"
   ]
  },
  {
   "cell_type": "code",
   "execution_count": 4,
   "id": "b7c7af43-84fe-4ce2-919f-e9ec5b8fe51e",
   "metadata": {},
   "outputs": [],
   "source": [
    "ct_scans_99[['Patient name', 'Comments']]\n",
    "ct_scans_90[['Patient name', 'Comments']]\n",
    "a = set(ct_scans_99['Comments'])\n",
    "b = set(ct_scans_90['Comments'])\n",
    "missing_suids = a - b\n",
    "missing_cts = pd.DataFrame({'StudyInstanceUID': list(missing_suids)})"
   ]
  },
  {
   "cell_type": "code",
   "execution_count": 5,
   "id": "74107500-e932-47be-bb42-baaf1f935b1f",
   "metadata": {},
   "outputs": [],
   "source": [
    "missing_cts.to_csv('suid2.txt', sep=' ', index=False)"
   ]
  },
  {
   "cell_type": "code",
   "execution_count": 6,
   "id": "02f14f3d-fca0-4a7a-b04a-c79141ecfbf6",
   "metadata": {},
   "outputs": [],
   "source": [
    "suid_input = 'suid2.txt'"
   ]
  },
  {
   "cell_type": "code",
   "execution_count": 7,
   "id": "a35c782b-778c-4a94-abcf-ae8f6bd31e81",
   "metadata": {},
   "outputs": [],
   "source": [
    "zips = [z for z in zips_path.glob('*.zip')]"
   ]
  },
  {
   "cell_type": "code",
   "execution_count": 8,
   "id": "063fc895-a67b-48f2-8823-7becaaaab6ed",
   "metadata": {},
   "outputs": [],
   "source": [
    "input_dicom_file_paths = [p for p in dicom_path.glob('**/*') if p.is_file()]"
   ]
  },
  {
   "cell_type": "code",
   "execution_count": 13,
   "id": "7754d08d-ae26-440f-b01b-1a85ceac8fd8",
   "metadata": {},
   "outputs": [],
   "source": [
    "tag_search_term = re.compile('ax', re.IGNORECASE)"
   ]
  },
  {
   "cell_type": "code",
   "execution_count": 15,
   "id": "6aa94e76-15c8-4f19-91d4-e3debba0c8b3",
   "metadata": {},
   "outputs": [],
   "source": [
    "series_ids = []"
   ]
  },
  {
   "cell_type": "code",
   "execution_count": 16,
   "id": "46f0c482-54b8-4187-90c3-da118606a0ba",
   "metadata": {},
   "outputs": [],
   "source": [
    "def filter_dicoms(path_to_dcm_file, pattern):\n",
    "    dcm = pydicom.dcmread(path_to_dcm_file, stop_before_pixels=True)\n",
    "    if isinstance(dcm, pydicom.dicomdir.DicomDir):\n",
    "        pass\n",
    "    elif isinstance(dcm, pydicom.dataset.FileDataset):\n",
    "        if dcm.Modality == 'CT' & dcm.SeriesDescription:\n",
    "            pattern.search(dcm.SeriesDescription)\n",
    "            series_ids.append(dcm.SeriesInstanceUID)"
   ]
  },
  {
   "cell_type": "code",
   "execution_count": 24,
   "id": "a2455f05-0f21-40eb-9953-c0c37f592897",
   "metadata": {},
   "outputs": [
    {
     "ename": "AttributeError",
     "evalue": "'FileDataset' object has no attribute 'SeriesDescription'",
     "output_type": "error",
     "traceback": [
      "\u001b[0;31m---------------------------------------------------------------------------\u001b[0m",
      "\u001b[0;31mAttributeError\u001b[0m                            Traceback (most recent call last)",
      "Input \u001b[0;32mIn [24]\u001b[0m, in \u001b[0;36m<cell line: 1>\u001b[0;34m()\u001b[0m\n\u001b[1;32m      1\u001b[0m \u001b[38;5;28;01mfor\u001b[39;00m p \u001b[38;5;129;01min\u001b[39;00m input_dicom_file_paths:\n\u001b[0;32m----> 2\u001b[0m     \u001b[43mfilter_dicoms\u001b[49m\u001b[43m(\u001b[49m\u001b[43mp\u001b[49m\u001b[43m,\u001b[49m\u001b[43m \u001b[49m\u001b[43mtag_search_term\u001b[49m\u001b[43m)\u001b[49m\n",
      "Input \u001b[0;32mIn [16]\u001b[0m, in \u001b[0;36mfilter_dicoms\u001b[0;34m(path_to_dcm_file, pattern)\u001b[0m\n\u001b[1;32m      5\u001b[0m \u001b[38;5;28;01melif\u001b[39;00m \u001b[38;5;28misinstance\u001b[39m(dcm, pydicom\u001b[38;5;241m.\u001b[39mdataset\u001b[38;5;241m.\u001b[39mFileDataset):\n\u001b[1;32m      6\u001b[0m     \u001b[38;5;28;01mif\u001b[39;00m dcm\u001b[38;5;241m.\u001b[39mModality \u001b[38;5;241m==\u001b[39m \u001b[38;5;124m'\u001b[39m\u001b[38;5;124mCT\u001b[39m\u001b[38;5;124m'\u001b[39m:\n\u001b[0;32m----> 7\u001b[0m         \u001b[38;5;28;01mif\u001b[39;00m pattern\u001b[38;5;241m.\u001b[39msearch(\u001b[43mdcm\u001b[49m\u001b[38;5;241;43m.\u001b[39;49m\u001b[43mSeriesDescription\u001b[49m):\n\u001b[1;32m      8\u001b[0m             series_ids\u001b[38;5;241m.\u001b[39mappend(dcm\u001b[38;5;241m.\u001b[39mSeriesInstanceUID)\n",
      "File \u001b[0;32m~/anaconda3/envs/baerum_native/lib/python3.10/site-packages/pydicom/dataset.py:834\u001b[0m, in \u001b[0;36mDataset.__getattr__\u001b[0;34m(self, name)\u001b[0m\n\u001b[1;32m    832\u001b[0m     \u001b[38;5;28;01mreturn\u001b[39;00m {}\n\u001b[1;32m    833\u001b[0m \u001b[38;5;66;03m# Try the base class attribute getter (fix for issue 332)\u001b[39;00m\n\u001b[0;32m--> 834\u001b[0m \u001b[38;5;28;01mreturn\u001b[39;00m \u001b[38;5;28;43mobject\u001b[39;49m\u001b[38;5;241;43m.\u001b[39;49m\u001b[38;5;21;43m__getattribute__\u001b[39;49m\u001b[43m(\u001b[49m\u001b[38;5;28;43mself\u001b[39;49m\u001b[43m,\u001b[49m\u001b[43m \u001b[49m\u001b[43mname\u001b[49m\u001b[43m)\u001b[49m\n",
      "\u001b[0;31mAttributeError\u001b[0m: 'FileDataset' object has no attribute 'SeriesDescription'"
     ]
    }
   ],
   "source": [
    "for p in input_dicom_file_paths:\n",
    "    filter_dicoms(p, tag_search_term)"
   ]
  },
  {
   "cell_type": "code",
   "execution_count": 26,
   "id": "aac58a31-b1f4-467b-bb60-2968f0dc55d5",
   "metadata": {},
   "outputs": [
    {
     "data": {
      "text/plain": [
       "72"
      ]
     },
     "execution_count": 26,
     "metadata": {},
     "output_type": "execute_result"
    }
   ],
   "source": [
    "len(set(series_ids))"
   ]
  },
  {
   "cell_type": "code",
   "execution_count": 8,
   "id": "ec2b3b34-48b2-42c6-9ea5-657ec50d3112",
   "metadata": {},
   "outputs": [],
   "source": [
    "#for zip in zips:\n",
    "#    subprocess.call(['unzip', zip.as_posix(), '-d', dicom_path.as_posix()])"
   ]
  },
  {
   "cell_type": "code",
   "execution_count": 9,
   "id": "d7f9620d-b618-4d97-a1ec-04a2c6d2e1a0",
   "metadata": {},
   "outputs": [],
   "source": [
    "dicompull_location = '/Applications/dicomtools-0.8.13-mac/dicompull'"
   ]
  },
  {
   "cell_type": "code",
   "execution_count": 10,
   "id": "ab504223-a016-416b-8a66-09ae07ae7241",
   "metadata": {},
   "outputs": [],
   "source": [
    "tags = ['ax til PACS', 'ax', 'Ax til PACS', 'Axial', 'AX', 'Caput', 'ax til pacs']"
   ]
  },
  {
   "cell_type": "code",
   "execution_count": 1,
   "id": "49dd87bd-49ea-4a76-94db-b187f0cd9352",
   "metadata": {},
   "outputs": [],
   "source": [
    "def run_dicompull(tag):\n",
    "    subprocess.call([dicompull_location, '-k', 'Modality=CT', '-k', '0008,103e='+tag, dicom_path.as_posix(), '-o', axial_ct_path.as_posix()+'/{PatientID}/dicom/CT'])"
   ]
  },
  {
   "cell_type": "code",
   "execution_count": 14,
   "id": "11b8fe50-07c7-4db6-9444-d4162dddb4ce",
   "metadata": {},
   "outputs": [],
   "source": [
    "def run_dicompull_suid(suids):\n",
    "    subprocess.call([dicompull_location, '-u', suids, dicom_path.as_posix(), '-o', axial_ct_path.as_posix()+'/{PatientID}/dicom/CT'])"
   ]
  },
  {
   "cell_type": "code",
   "execution_count": 15,
   "id": "70ed47c7-a029-418c-bedd-9bde4996e816",
   "metadata": {},
   "outputs": [
    {
     "name": "stdout",
     "output_type": "stream",
     "text": [
      "Scanning 100%                      \n",
      "Copying 100%                       \n"
     ]
    }
   ],
   "source": [
    "run_dicompull_suid(suid_input)"
   ]
  },
  {
   "cell_type": "code",
   "execution_count": 13,
   "id": "942999d5-ed3c-44ff-8fa4-1a27f6907736",
   "metadata": {},
   "outputs": [
    {
     "name": "stdout",
     "output_type": "stream",
     "text": [
      "Scanning 100%                      \n",
      "Scanning 100%                      \n",
      "Scanning 100%                      \n",
      "Scanning 100%                      \n",
      "Scanning 100%                      \n",
      "Scanning 100%                      \n",
      "Scanning 100%                      \n"
     ]
    }
   ],
   "source": [
    "for tag in tags:\n",
    "    run_dicompull(tag)"
   ]
  },
  {
   "cell_type": "code",
   "execution_count": 16,
   "id": "0b7f3d60-97df-49c5-9e66-ba86d8d3a23a",
   "metadata": {},
   "outputs": [],
   "source": [
    "bla = [p for p in axial_ct_path.glob('*ct')]"
   ]
  },
  {
   "cell_type": "code",
   "execution_count": 17,
   "id": "9cf0b6cd-9974-4625-87e2-71afe7f4f25b",
   "metadata": {},
   "outputs": [
    {
     "data": {
      "text/plain": [
       "97"
      ]
     },
     "execution_count": 17,
     "metadata": {},
     "output_type": "execute_result"
    }
   ],
   "source": [
    "len(bla)"
   ]
  },
  {
   "cell_type": "code",
   "execution_count": null,
   "id": "906ef221-ae2a-483a-b1e5-9350f099835a",
   "metadata": {},
   "outputs": [],
   "source": []
  }
 ],
 "metadata": {
  "kernelspec": {
   "display_name": "Python 3 (ipykernel)",
   "language": "python",
   "name": "python3"
  },
  "language_info": {
   "codemirror_mode": {
    "name": "ipython",
    "version": 3
   },
   "file_extension": ".py",
   "mimetype": "text/x-python",
   "name": "python",
   "nbconvert_exporter": "python",
   "pygments_lexer": "ipython3",
   "version": "3.10.5"
  }
 },
 "nbformat": 4,
 "nbformat_minor": 5
}
