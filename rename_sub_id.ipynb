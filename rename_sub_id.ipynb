{
 "cells": [
  {
   "cell_type": "code",
   "execution_count": 31,
   "metadata": {},
   "outputs": [],
   "source": [
    "from pathlib import Path\n",
    "import pydicom\n",
    "import shutil\n",
    "import os"
   ]
  },
  {
   "cell_type": "code",
   "execution_count": 11,
   "metadata": {},
   "outputs": [],
   "source": [
    "trondheim_dicoms_dirs = list(Path('image_data/Eva_Mona/').glob('*/DICOM'))\n",
    "st_olav_output = Path('image_data/st_olav_output_1509')"
   ]
  },
  {
   "cell_type": "code",
   "execution_count": 26,
   "metadata": {},
   "outputs": [],
   "source": [
    "def get_subject_id_from_path(path):\n",
    "    subject_part = path.parts[-2]\n",
    "    subject_id = subject_part.split(' ')[0]\n",
    "    modality = subject_part.split(' ')[1]\n",
    "    return (subject_id, modality)"
   ]
  },
  {
   "cell_type": "code",
   "execution_count": 9,
   "metadata": {},
   "outputs": [],
   "source": [
    "def check_if_file_is_dicom(path_to_file):\n",
    "    try:\n",
    "        dcm = pydicom.dcmread(path_to_file, stop_before_pixels=True, force=True)\n",
    "        if isinstance(dcm, pydicom.dicomdir.DicomDir):\n",
    "            return False\n",
    "        elif isinstance(dcm, pydicom.dataset.FileDataset):\n",
    "            return True\n",
    "    except:\n",
    "        return False"
   ]
  },
  {
   "cell_type": "code",
   "execution_count": 21,
   "metadata": {},
   "outputs": [],
   "source": [
    "def scan_directory_for_files(path_to_dir):\n",
    "    files = []\n",
    "    for file in path_to_dir.glob('**/*'):\n",
    "        if file.is_file():\n",
    "            if check_if_file_is_dicom(file):\n",
    "                files.append(file)\n",
    "    return files"
   ]
  },
  {
   "cell_type": "code",
   "execution_count": 39,
   "metadata": {},
   "outputs": [],
   "source": [
    "def convert_patient_id():\n",
    "    for path in trondheim_dicoms_dirs:\n",
    "        subject_id = get_subject_id_from_path(path)[0]\n",
    "        modality = get_subject_id_from_path(path)[1]\n",
    "        files = scan_directory_for_files(path)\n",
    "        out_dir = st_olav_output / subject_id / modality\n",
    "        os.makedirs(out_dir, exist_ok=True)\n",
    "        for file in files:\n",
    "            if check_if_file_is_dicom(file):\n",
    "                dcm = pydicom.dcmread(file, stop_before_pixels=True, force=True)\n",
    "                dcm.PatientID = subject_id\n",
    "                dcm.PatientName = subject_id\n",
    "                dcm.save_as(out_dir / file.name)"
   ]
  },
  {
   "cell_type": "code",
   "execution_count": null,
   "metadata": {},
   "outputs": [],
   "source": []
  }
 ],
 "metadata": {
  "kernelspec": {
   "display_name": "Python 3 (ipykernel)",
   "language": "python",
   "name": "python3"
  },
  "language_info": {
   "codemirror_mode": {
    "name": "ipython",
    "version": 3
   },
   "file_extension": ".py",
   "mimetype": "text/x-python",
   "name": "python",
   "nbconvert_exporter": "python",
   "pygments_lexer": "ipython3",
   "version": "3.10.4"
  },
  "orig_nbformat": 4
 },
 "nbformat": 4,
 "nbformat_minor": 2
}
