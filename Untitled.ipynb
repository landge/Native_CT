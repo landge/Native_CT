{
 "cells": [
  {
   "cell_type": "code",
   "execution_count": 1,
   "id": "63e9f9ba-d05e-4588-bab3-46c588eab6f3",
   "metadata": {},
   "outputs": [],
   "source": [
    "import subprocess\n",
    "from pathlib import Path"
   ]
  },
  {
   "cell_type": "code",
   "execution_count": 22,
   "id": "bd2d3366-c2a7-4bc5-ade7-54635a918a65",
   "metadata": {},
   "outputs": [],
   "source": [
    "zips_path = Path('ullevaal_zips/')\n",
    "dicom_path = Path('klinisk_baseline_ulleval_may2022/')\n",
    "axial_ct_path = Path('ulleval_axial_cts/')"
   ]
  },
  {
   "cell_type": "code",
   "execution_count": 3,
   "id": "a35c782b-778c-4a94-abcf-ae8f6bd31e81",
   "metadata": {},
   "outputs": [],
   "source": [
    "zips = [z for z in zips_path.glob('*.zip')]"
   ]
  },
  {
   "cell_type": "code",
   "execution_count": null,
   "id": "ec2b3b34-48b2-42c6-9ea5-657ec50d3112",
   "metadata": {},
   "outputs": [],
   "source": [
    "for zip in zips:\n",
    "    subprocess.call(['unzip', zip.as_posix(), '-d', dicom_path.as_posix()])"
   ]
  },
  {
   "cell_type": "code",
   "execution_count": 8,
   "id": "d7f9620d-b618-4d97-a1ec-04a2c6d2e1a0",
   "metadata": {},
   "outputs": [],
   "source": [
    "dicompull_location = '/Applications/dicomtools-0.8.13-mac/dicompull'"
   ]
  },
  {
   "cell_type": "code",
   "execution_count": 43,
   "id": "49dd87bd-49ea-4a76-94db-b187f0cd9352",
   "metadata": {},
   "outputs": [],
   "source": [
    "def run_dicompull():\n",
    "    subprocess.call([dicompull_location, '-k', 'Modality=CT', '-k', '0008,103e=*ax*', '-k', '0008,103e=*axial*',  dicom_path.as_posix(), '-o', axial_ct_path.as_posix()+'/{PatientID}/dicom/CT'])"
   ]
  },
  {
   "cell_type": "code",
   "execution_count": 35,
   "id": "0b7f3d60-97df-49c5-9e66-ba86d8d3a23a",
   "metadata": {},
   "outputs": [],
   "source": [
    "bla = [p for p in axial_ct_path.glob('*ct')]"
   ]
  },
  {
   "cell_type": "code",
   "execution_count": 37,
   "id": "9cf0b6cd-9974-4625-87e2-71afe7f4f25b",
   "metadata": {},
   "outputs": [
    {
     "data": {
      "text/plain": [
       "35"
      ]
     },
     "execution_count": 37,
     "metadata": {},
     "output_type": "execute_result"
    }
   ],
   "source": [
    "len(bla)"
   ]
  },
  {
   "cell_type": "code",
   "execution_count": null,
   "id": "003b7a25-48f0-4daa-ad32-3ea0534bbf9f",
   "metadata": {},
   "outputs": [],
   "source": []
  }
 ],
 "metadata": {
  "kernelspec": {
   "display_name": "Python 3 (ipykernel)",
   "language": "python",
   "name": "python3"
  },
  "language_info": {
   "codemirror_mode": {
    "name": "ipython",
    "version": 3
   },
   "file_extension": ".py",
   "mimetype": "text/x-python",
   "name": "python",
   "nbconvert_exporter": "python",
   "pygments_lexer": "ipython3",
   "version": "3.10.5"
  }
 },
 "nbformat": 4,
 "nbformat_minor": 5
}
